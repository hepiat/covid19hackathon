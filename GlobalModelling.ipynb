{
 "cells": [
  {
   "cell_type": "markdown",
   "metadata": {},
   "source": [
    "# Global Modelling"
   ]
  },
  {
   "cell_type": "markdown",
   "metadata": {},
   "source": [
    "This script creates a global model of the virus outbreak, based on an extended SEIR model and a transport model for the global exchange of the people. Details: \n",
    "\n",
    "- The world is split into grid cells of 1 degree longitude by 1 degree latitude. Each cell represents the population in that geographical region.\n",
    "- The model is temporally discretized in 1 day modelling steps.\n",
    "- Epidemiological model with the states \"susceptible\" (S), \"exposed\" (E), \"silent infected\" (I0), \"infected\" (I1), \"cured\" (C), and \"deseased\" (D)\n",
    "- Transport model with a constant exchange of people from grid cell to grid cell"
   ]
  },
  {
   "cell_type": "code",
   "execution_count": null,
   "metadata": {},
   "outputs": [],
   "source": [
    "# import the libraries \n",
    "import numpy as np\n",
    "import gdal\n",
    "import matplotlib.pyplot as plt"
   ]
  },
  {
   "cell_type": "markdown",
   "metadata": {},
   "source": [
    "## Definition of the grid"
   ]
  },
  {
   "cell_type": "code",
   "execution_count": null,
   "metadata": {},
   "outputs": [],
   "source": [
    "lon = np.arange(-180, 180, 1)\n",
    "lat = np.arange(-90, 90, 1)\n",
    "LonGrid, LatGrid = np.meshgrid(lon, lat)"
   ]
  },
  {
   "cell_type": "markdown",
   "metadata": {},
   "source": [
    "Define country belonging of the grid points"
   ]
  },
  {
   "cell_type": "code",
   "execution_count": null,
   "metadata": {},
   "outputs": [],
   "source": [
    "xxx"
   ]
  },
  {
   "cell_type": "markdown",
   "metadata": {},
   "source": [
    "Define the population density map and assign them to the grid"
   ]
  },
  {
   "cell_type": "code",
   "execution_count": null,
   "metadata": {},
   "outputs": [],
   "source": [
    "# load the file\n",
    "FileName = 'population_density\\\\gpw_v4_population_density_rev11_2020_1_deg.tif'\n",
    "ds = gdal.Open(FileName)\n",
    "geoMatrix = ds.GetGeoTransform()\n",
    "band = ds.GetRasterBand(1)\n",
    "arr = band.ReadAsArray()\n",
    "del ds, band\n",
    "\n",
    "# get the details of the transform\n",
    "ulX = geoMatrix[0]\n",
    "ulY = geoMatrix[3]\n",
    "xDist = geoMatrix[1]\n",
    "yDist = geoMatrix[5]\n",
    "rtnX = geoMatrix[2]\n",
    "rtnY = geoMatrix[4]\n",
    "Ny, Nx = arr.shape\n",
    "\n",
    "# flip the map \n",
    "if yDist < 0:\n",
    "    arr = np.flipud(arr)\n",
    "\n",
    "# flag for the -inf valued cells for later\n",
    "FlagInf = arr < -10000\n",
    "\n",
    "# total population in the world\n",
    "PopTotal = 8e9\n",
    "\n",
    "# normalize the population to reflect the world population of 8 billion\n",
    "Population = arr\n",
    "Population[FlagInf == 0] = Population[FlagInf == 0] / np.sum(Population[FlagInf == 0]) * PopTotal\n",
    "\n",
    "# show the population grid for visual check\n",
    "plt.figure()\n",
    "plt.imshow(np.log10(Population), vmin = 0, vmax = np.log10(np.max(Population)), origin=\"lower\")"
   ]
  },
  {
   "cell_type": "markdown",
   "metadata": {},
   "source": [
    "Define the health index per grid cell"
   ]
  },
  {
   "cell_type": "code",
   "execution_count": null,
   "metadata": {},
   "outputs": [],
   "source": [
    "xxx"
   ]
  },
  {
   "cell_type": "markdown",
   "metadata": {},
   "source": [
    "Define the government interventions per grid cell"
   ]
  },
  {
   "cell_type": "code",
   "execution_count": null,
   "metadata": {},
   "outputs": [],
   "source": [
    "xxx"
   ]
  },
  {
   "cell_type": "markdown",
   "metadata": {},
   "source": [
    "Check that the different matrices are consistent"
   ]
  },
  {
   "cell_type": "code",
   "execution_count": null,
   "metadata": {},
   "outputs": [],
   "source": [
    "# grid and population matrix\n",
    "assert np.all(LonGrid.shape == Population.shape), 'inconsistency in between Grid and Population!!'"
   ]
  },
  {
   "cell_type": "markdown",
   "metadata": {},
   "source": [
    "## Definition of the epidemiological model"
   ]
  },
  {
   "cell_type": "code",
   "execution_count": null,
   "metadata": {},
   "outputs": [],
   "source": [
    "def SEI0I1DCmodel(S,E,I0,I1,C,D, beta0, beta1, gamma0, gamma1, eps1, delta, a):\n",
    "    \n",
    "    # the entire population\n",
    "    N = S + E + I0 + I1 + C + D\n",
    "    \n",
    "    # change of the susecptible\n",
    "    dSdt = -beta0 * I0 * S / N - beta1 * I1 * S / N \n",
    "    \n",
    "    # chance of the exposed \n",
    "    dEdt = beta0 * I0 * S / N  + beta1 * I1 * S / N - a * E \n",
    "    \n",
    "    # change of the infected I0\n",
    "    dI0dt = a * E - delta * I0 - gamma0 * I0\n",
    "    \n",
    "    # change of the infected I1\n",
    "    dI1dt = delta * I0 - gamma1 * I1 - eps1 * I1\n",
    "    \n",
    "    # change of the cured\n",
    "    dCdt = gamma0 * I0 + gamma1 * I1\n",
    "    \n",
    "    # change of the dead\n",
    "    dDdt = eps1 * I1\n",
    "    \n",
    "    # update the states\n",
    "    S = S + dSdt\n",
    "    E = E + dEdt\n",
    "    I0 = I0 + dI0dt\n",
    "    I1 = I1 + dI1dt\n",
    "    C = C + dCdt\n",
    "    D = D + dDdt\n",
    "    \n",
    "    # return the updated states\n",
    "    return S, E, I0, I1, C, D"
   ]
  },
  {
   "cell_type": "markdown",
   "metadata": {},
   "source": [
    "## Definition of the transport model\n"
   ]
  },
  {
   "cell_type": "markdown",
   "metadata": {},
   "source": [
    "Define the state update as a function of the state StateOld and the ExchangeMatrix"
   ]
  },
  {
   "cell_type": "code",
   "execution_count": null,
   "metadata": {},
   "outputs": [],
   "source": [
    "def StateUpdate(StateOld, ExchangeMatrix):\n",
    "    \n",
    "    # get the relative distribution of people in each classes \n",
    "    StateRel = np.zeros(StateOld.shape)\n",
    "    for ii in range(StateRel.shape[0]):\n",
    "        StateRel[ii,:] = StateOld[ii,:] / np.sum(StateOld[ii,:])\n",
    "    \n",
    "    # compute the delta state\n",
    "    dState = np.zeros(StateOld.shape)\n",
    "    for ii in range(StateOld.shape[1]):\n",
    "        dState[:,ii] = np.matmul(ExchangeMatrix, StateRel[:,ii])\n",
    "    \n",
    "    # define the new state\n",
    "    StateNew = StateOld + dState \n",
    "    \n",
    "    # return the new state\n",
    "    return StateNew"
   ]
  },
  {
   "cell_type": "markdown",
   "metadata": {},
   "source": [
    "Define the ExchangeMatrix describing the number of people transferring from 1 cell to the next in each time step"
   ]
  },
  {
   "cell_type": "code",
   "execution_count": null,
   "metadata": {},
   "outputs": [],
   "source": [
    "xxx"
   ]
  },
  {
   "cell_type": "markdown",
   "metadata": {},
   "source": [
    "## Simulate the evolution of the virus"
   ]
  },
  {
   "cell_type": "markdown",
   "metadata": {},
   "source": [
    "Describe the total number of time steps for the simulation "
   ]
  },
  {
   "cell_type": "code",
   "execution_count": null,
   "metadata": {},
   "outputs": [],
   "source": [
    "Ttotal = 365"
   ]
  },
  {
   "cell_type": "markdown",
   "metadata": {},
   "source": [
    "Initialize the model parameters "
   ]
  },
  {
   "cell_type": "code",
   "execution_count": null,
   "metadata": {},
   "outputs": [],
   "source": [
    "# beta: amount of susceptible getting exposed\n",
    "beta0 = 0.2\n",
    "beta1 = 0.2\n",
    "\n",
    "# gamme: gamma: amount of infected getting cured\n",
    "gamma0 = 0.1\n",
    "gamma1 = 0.1\n",
    "\n",
    "# eps: people dying from I1\n",
    "eps1 = 0.01\n",
    "\n",
    "# delta: people moving from I0 to I1\n",
    "delta = 0.5\n",
    "\n",
    "# a: incubation parameter with exponential distribution with parameter a (the incubation period is a^-1) --> exposed to I0\n",
    "a = 0.1"
   ]
  },
  {
   "cell_type": "markdown",
   "metadata": {},
   "source": [
    "Define a single iteration of the simulation"
   ]
  },
  {
   "cell_type": "code",
   "execution_count": null,
   "metadata": {},
   "outputs": [],
   "source": [
    "def SimulateSingleStep():\n",
    "    \n",
    "    xxx"
   ]
  },
  {
   "cell_type": "markdown",
   "metadata": {},
   "source": [
    "Define the initial state for all grid cells"
   ]
  },
  {
   "cell_type": "code",
   "execution_count": null,
   "metadata": {},
   "outputs": [],
   "source": [
    "xxx"
   ]
  },
  {
   "cell_type": "markdown",
   "metadata": {},
   "source": [
    "Run the simulation by looping through the simulation steps"
   ]
  },
  {
   "cell_type": "code",
   "execution_count": null,
   "metadata": {},
   "outputs": [],
   "source": [
    "for ii in range(Ttotal):\n",
    "    \n",
    "    # show the progress\n",
    "    print('Iterations ' + str(ii) + ' of ' + str(Ttotal) + ' days...')\n",
    "    \n",
    "    # update the state\n",
    "    \n",
    "    # report on the new state\n",
    "    \n",
    "    # store the new state\n",
    "    "
   ]
  },
  {
   "cell_type": "markdown",
   "metadata": {},
   "source": [
    "## Calibration??"
   ]
  },
  {
   "cell_type": "markdown",
   "metadata": {},
   "source": [
    "to be done..."
   ]
  },
  {
   "cell_type": "code",
   "execution_count": null,
   "metadata": {},
   "outputs": [],
   "source": []
  }
 ],
 "metadata": {
  "kernelspec": {
   "display_name": "Python 3",
   "language": "python",
   "name": "python3"
  },
  "language_info": {
   "codemirror_mode": {
    "name": "ipython",
    "version": 3
   },
   "file_extension": ".py",
   "mimetype": "text/x-python",
   "name": "python",
   "nbconvert_exporter": "python",
   "pygments_lexer": "ipython3",
   "version": "3.6.10"
  }
 },
 "nbformat": 4,
 "nbformat_minor": 4
}
