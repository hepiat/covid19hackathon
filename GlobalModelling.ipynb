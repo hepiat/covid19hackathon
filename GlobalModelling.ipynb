{
 "cells": [
  {
   "cell_type": "markdown",
   "metadata": {},
   "source": [
    "# Global Modelling"
   ]
  },
  {
   "cell_type": "markdown",
   "metadata": {},
   "source": [
    "This script creates a global model of the virus outbreak, based on an extended SEIR model and a transport model for the global exchange of the people. Details: \n",
    "\n",
    "- The world is split into grid cells of 1 degree longitude by 1 degree latitude. Each cell represents the population in that geographical region.\n",
    "- The model is temporally discretized in 1 day modelling steps.\n",
    "- Epidemiological model with the states \"susceptible\" (S), \"exposed\" (E), \"silent infected\" (I0), \"infected\" (I1), \"cured\" (C), and \"deseased\" (D)\n",
    "- Transport model with a constant exchange of people from grid cell to grid cell"
   ]
  },
  {
   "cell_type": "code",
   "execution_count": null,
   "metadata": {},
   "outputs": [],
   "source": [
    "# import the libraries \n",
    "import numpy as np\n",
    "import gdal\n",
    "import matplotlib.pyplot as plt"
   ]
  },
  {
   "cell_type": "markdown",
   "metadata": {},
   "source": [
    "## Definition of the grid"
   ]
  },
  {
   "cell_type": "code",
   "execution_count": null,
   "metadata": {},
   "outputs": [],
   "source": [
    "lon = np.arange(-180, 180, 1)\n",
    "lat = np.arange(-90, 90, 1)\n",
    "LonGrid, LatGrid = np.meshgrid(lon, lat)"
   ]
  },
  {
   "cell_type": "code",
   "execution_count": null,
   "metadata": {},
   "outputs": [],
   "source": [
    "# create a list and indices for all cells\n",
    "LonList = np.concatenate(LonGrid)\n",
    "LatList = np.concatenate(LatGrid)\n",
    "Ncells = len(LatList)\n",
    "print('Number of cells is ' + str(Ncells))"
   ]
  },
  {
   "cell_type": "markdown",
   "metadata": {},
   "source": [
    "Define country belonging of the grid points"
   ]
  },
  {
   "cell_type": "code",
   "execution_count": null,
   "metadata": {},
   "outputs": [],
   "source": [
    "Country = np.zeros(LonGrid.shape)"
   ]
  },
  {
   "cell_type": "markdown",
   "metadata": {},
   "source": [
    "Define the population map and assign them to the grid"
   ]
  },
  {
   "cell_type": "code",
   "execution_count": null,
   "metadata": {},
   "outputs": [],
   "source": [
    "# load the file\n",
    "FileName = 'population_density\\\\gpw_v4_population_density_rev11_2020_1_deg.tif'\n",
    "ds = gdal.Open(FileName)\n",
    "geoMatrix = ds.GetGeoTransform()\n",
    "band = ds.GetRasterBand(1)\n",
    "arr = band.ReadAsArray()\n",
    "del ds, band\n",
    "\n",
    "# get the details of the transform\n",
    "ulX = geoMatrix[0]\n",
    "ulY = geoMatrix[3]\n",
    "xDist = geoMatrix[1]\n",
    "yDist = geoMatrix[5]\n",
    "rtnX = geoMatrix[2]\n",
    "rtnY = geoMatrix[4]\n",
    "Ny, Nx = arr.shape\n",
    "\n",
    "# flip the map \n",
    "if yDist < 0:\n",
    "    arr = np.flipud(arr)\n",
    "\n",
    "# flag for the -inf valued cells for later\n",
    "FlagInf = arr < -10000\n",
    "\n",
    "# total population in the world\n",
    "PopTotal = 8e9\n",
    "\n",
    "# normalize the population to reflect the world population of 8 billion\n",
    "Population = arr\n",
    "Population[FlagInf == 0] = Population[FlagInf == 0] / np.sum(Population[FlagInf == 0]) * PopTotal\n",
    "\n",
    "# show the population grid for visual check\n",
    "plt.figure()\n",
    "plt.imshow(np.log10(Population), vmin = 0, vmax = np.log10(np.max(Population)), origin=\"lower\")"
   ]
  },
  {
   "cell_type": "markdown",
   "metadata": {},
   "source": [
    "Define the health index per grid cell"
   ]
  },
  {
   "cell_type": "code",
   "execution_count": null,
   "metadata": {},
   "outputs": [],
   "source": [
    "1+1"
   ]
  },
  {
   "cell_type": "markdown",
   "metadata": {},
   "source": [
    "Define the government interventions per grid cell"
   ]
  },
  {
   "cell_type": "code",
   "execution_count": null,
   "metadata": {},
   "outputs": [],
   "source": [
    "1+1"
   ]
  },
  {
   "cell_type": "markdown",
   "metadata": {},
   "source": [
    "Check that the different matrices are consistent"
   ]
  },
  {
   "cell_type": "code",
   "execution_count": null,
   "metadata": {},
   "outputs": [],
   "source": [
    "# grid and population matrix\n",
    "assert np.all(LonGrid.shape == Population.shape), 'inconsistency in between Grid and Population!!'"
   ]
  },
  {
   "cell_type": "markdown",
   "metadata": {},
   "source": [
    "## Remove inactive cells"
   ]
  },
  {
   "cell_type": "markdown",
   "metadata": {},
   "source": [
    "Based on the information above, remove the cells that do not belong to any country and do not have any population"
   ]
  },
  {
   "cell_type": "code",
   "execution_count": null,
   "metadata": {},
   "outputs": [],
   "source": [
    "# find cells with no population\n",
    "FlagNoPopulation = Population <= 0\n",
    "print('Fraction of cells without any population: ' + str(np.mean(FlagNoPopulation)))\n",
    "\n",
    "# find the cells with no country attributed\n",
    "FlagNoCountry = Country < 0\n",
    "print('Fraction of cells without any attributed country: ' + str(np.mean(FlagNoCountry)))"
   ]
  },
  {
   "cell_type": "code",
   "execution_count": null,
   "metadata": {},
   "outputs": [],
   "source": [
    "# combine the 2 flags\n",
    "FlagRemove = FlagNoPopulation + FlagNoCountry\n",
    "print('Fraction of cells removed: ' + str(np.mean(FlagRemove >= 1)))\n",
    "print('Remaining are ' + str(np.sum(FlagRemove >= 1)) + ' cells')\n",
    "\n",
    "# remove the corresponding cells\n",
    "LatListClean = LatList[np.concatenate(FlagRemove) >= 1]\n",
    "LonListClean = LonList[np.concatenate(FlagRemove) >= 1]\n",
    "PopulationClean = np.concatenate(Population)[np.concatenate(FlagRemove) >= 1]\n",
    "CountryClean = np.concatenate(Country)[np.concatenate(FlagRemove) >= 1]\n",
    "NcellsClean = len(CountryClean)"
   ]
  },
  {
   "cell_type": "markdown",
   "metadata": {},
   "source": [
    "## Definition of the epidemiological model"
   ]
  },
  {
   "cell_type": "code",
   "execution_count": null,
   "metadata": {},
   "outputs": [],
   "source": [
    "def SEI0I1DCmodel(S,E,I0,I1,C,D, beta0, beta1, gamma0, gamma1, eps1, delta, a):\n",
    "    \n",
    "    # the entire population\n",
    "    N = S + E + I0 + I1 + C + D\n",
    "    \n",
    "    # change of the susecptible\n",
    "    dSdt = -beta0 * I0 * S / N - beta1 * I1 * S / N \n",
    "    \n",
    "    # chance of the exposed \n",
    "    dEdt = beta0 * I0 * S / N  + beta1 * I1 * S / N - a * E \n",
    "    \n",
    "    # change of the infected I0\n",
    "    dI0dt = a * E - delta * I0 - gamma0 * I0\n",
    "    \n",
    "    # change of the infected I1\n",
    "    dI1dt = delta * I0 - gamma1 * I1 - eps1 * I1\n",
    "    \n",
    "    # change of the cured\n",
    "    dCdt = gamma0 * I0 + gamma1 * I1\n",
    "    \n",
    "    # change of the dead\n",
    "    dDdt = eps1 * I1\n",
    "    \n",
    "    # update the states\n",
    "    S = S + dSdt\n",
    "    E = E + dEdt\n",
    "    I0 = I0 + dI0dt\n",
    "    I1 = I1 + dI1dt\n",
    "    C = C + dCdt\n",
    "    D = D + dDdt\n",
    "    \n",
    "    # return the updated states\n",
    "    return S, E, I0, I1, C, D"
   ]
  },
  {
   "cell_type": "markdown",
   "metadata": {},
   "source": [
    "## Definition of the transport model\n"
   ]
  },
  {
   "cell_type": "markdown",
   "metadata": {},
   "source": [
    "Define the state update as a function of the state StateOld and the ExchangeMatrix"
   ]
  },
  {
   "cell_type": "code",
   "execution_count": null,
   "metadata": {},
   "outputs": [],
   "source": [
    "def StateUpdate(StateOld, ExchangeMatrix):\n",
    "    \n",
    "    # get the relative distribution of people in each classes \n",
    "    StateRel = np.zeros(StateOld.shape)\n",
    "    for ii in range(StateRel.shape[0]):\n",
    "        StateRel[ii,:] = StateOld[ii,:] / np.sum(StateOld[ii,:])\n",
    "    \n",
    "    # compute the delta state\n",
    "    dState = np.zeros(StateOld.shape)\n",
    "    for ii in range(StateOld.shape[1]):\n",
    "        dState[:,ii] = np.matmul(ExchangeMatrix, StateRel[:,ii])\n",
    "    \n",
    "    # define the new state\n",
    "    StateNew = StateOld + dState \n",
    "    \n",
    "    # return the new state\n",
    "    return StateNew"
   ]
  },
  {
   "cell_type": "markdown",
   "metadata": {},
   "source": [
    "Define the ExchangeMatrix describing the number of people transferring from 1 cell to the next in each time step"
   ]
  },
  {
   "cell_type": "code",
   "execution_count": null,
   "metadata": {},
   "outputs": [],
   "source": [
    "ExchangeMatrix = np.zeros((NcellsClean, NcellsClean))"
   ]
  },
  {
   "cell_type": "markdown",
   "metadata": {},
   "source": [
    "## Simulate the evolution of the virus"
   ]
  },
  {
   "cell_type": "markdown",
   "metadata": {},
   "source": [
    "Describe the total number of time steps for the simulation "
   ]
  },
  {
   "cell_type": "code",
   "execution_count": null,
   "metadata": {},
   "outputs": [],
   "source": [
    "Ttotal = 365"
   ]
  },
  {
   "cell_type": "markdown",
   "metadata": {},
   "source": [
    "Initialize the model parameters "
   ]
  },
  {
   "cell_type": "code",
   "execution_count": null,
   "metadata": {},
   "outputs": [],
   "source": [
    "# beta: amount of susceptible getting exposed\n",
    "beta0 = 0.2\n",
    "beta1 = 0.2\n",
    "\n",
    "# gamme: gamma: amount of infected getting cured\n",
    "gamma0 = 0.1\n",
    "gamma1 = 0.1\n",
    "\n",
    "# eps: people dying from I1\n",
    "eps1 = 0.01\n",
    "\n",
    "# delta: people moving from I0 to I1\n",
    "delta = 0.5\n",
    "\n",
    "# a: incubation parameter with exponential distribution with parameter a (the incubation period is a^-1) --> exposed to I0\n",
    "a = 0.1\n",
    "\n",
    "# and put them into a single dictionary for later\n",
    "OptsEpid = {'beta0':beta0, 'beta1':beta1, 'gamma0':gamma0, 'gamma1':gamma1, 'gamma0':gamma0, 'delta':delta, 'eps1':eps1, 'a':a}"
   ]
  },
  {
   "cell_type": "code",
   "execution_count": null,
   "metadata": {},
   "outputs": [],
   "source": [
    "# and put the transport properties also into a structure\n",
    "OptsTrans = {'ExchangeMatrix':ExchangeMatrix}"
   ]
  },
  {
   "cell_type": "markdown",
   "metadata": {},
   "source": [
    "Define a single iteration of the simulation"
   ]
  },
  {
   "cell_type": "code",
   "execution_count": null,
   "metadata": {},
   "outputs": [],
   "source": [
    "def SimulateSingleStep(StateOld, OptsEpid, OptsTrans):\n",
    "    \n",
    "    # extract the states\n",
    "    Sold = StateOld[:,0] \n",
    "    Eold = StateOld[:,1]\n",
    "    I0old = StateOld[:,2]\n",
    "    I1old = StateOld[:,3]\n",
    "    Cold = StateOld[:,4]\n",
    "    Dold = StateOld[:,5]\n",
    "    \n",
    "    # update the epidemic parameters\n",
    "    S,E,I0,I1,C,D = SEI0I1DCmodel(Sold,Eold,I0old,I1old,Cold,Dold, \n",
    "                                  OptsEpid['beta0'], OptsEpid['beta1'], OptsEpid['gamma0'], OptsEpid['gamma1'], \n",
    "                                  OptsEpid['eps1'], OptsEpid['delta'], OptsEpid['a'])\n",
    "    \n",
    "    # and put them back into the State structure\n",
    "    State = np.zeros(StateOld.shape)\n",
    "    State[:,0] = S\n",
    "    State[:,1] = E\n",
    "    State[:,2] = I0\n",
    "    State[:,3] = I1\n",
    "    State[:,4] = C\n",
    "    State[:,5] = D\n",
    "    \n",
    "    # update the transport\n",
    "    StateNew = StateUpdate(State, OptsTrans['ExchangeMatrix'])\n",
    "    \n",
    "    return StateNew"
   ]
  },
  {
   "cell_type": "markdown",
   "metadata": {},
   "source": [
    "Define the initial state for all grid cells"
   ]
  },
  {
   "cell_type": "code",
   "execution_count": null,
   "metadata": {},
   "outputs": [],
   "source": [
    "State0 = np.zeros((NcellsClean, 6))\n",
    "State0[:,0] = PopulationClean"
   ]
  },
  {
   "cell_type": "markdown",
   "metadata": {},
   "source": [
    "Run the simulation by looping through the simulation steps"
   ]
  },
  {
   "cell_type": "code",
   "execution_count": null,
   "metadata": {},
   "outputs": [],
   "source": [
    "# define the storage structure\n",
    "StateAll = np.zeros((State0.shape[0], State0.shape[1], Ttotal))\n",
    "\n",
    "# start the iterations\n",
    "StateOld = State0\n",
    "for tt in range(Ttotal):\n",
    "    \n",
    "    # show the progress\n",
    "    print('Iterations ' + str(tt) + ' of ' + str(Ttotal) + ' days...')\n",
    "    \n",
    "    # update the state\n",
    "    StateNew = SimulateSingleStep(StateOld, OptsEpid, OptsTrans)\n",
    "    \n",
    "    # report on the new state\n",
    "    StateAll[:,:,tt]\n",
    "    \n",
    "    # store the new state\n",
    "    StateOld = StateNew\n",
    "    "
   ]
  },
  {
   "cell_type": "markdown",
   "metadata": {},
   "source": [
    "## Calibration??"
   ]
  },
  {
   "cell_type": "markdown",
   "metadata": {},
   "source": [
    "to be done..."
   ]
  },
  {
   "cell_type": "code",
   "execution_count": null,
   "metadata": {},
   "outputs": [],
   "source": [
    "1+1"
   ]
  },
  {
   "cell_type": "markdown",
   "metadata": {},
   "source": [
    "## Visualization"
   ]
  },
  {
   "cell_type": "markdown",
   "metadata": {},
   "source": [
    "to be done..."
   ]
  },
  {
   "cell_type": "code",
   "execution_count": null,
   "metadata": {},
   "outputs": [],
   "source": [
    "1+1"
   ]
  },
  {
   "cell_type": "code",
   "execution_count": null,
   "metadata": {},
   "outputs": [],
   "source": [
    "del "
   ]
  }
 ],
 "metadata": {
  "kernelspec": {
   "display_name": "Python 3",
   "language": "python",
   "name": "python3"
  },
  "language_info": {
   "codemirror_mode": {
    "name": "ipython",
    "version": 3
   },
   "file_extension": ".py",
   "mimetype": "text/x-python",
   "name": "python",
   "nbconvert_exporter": "python",
   "pygments_lexer": "ipython3",
   "version": "3.6.10"
  }
 },
 "nbformat": 4,
 "nbformat_minor": 4
}
